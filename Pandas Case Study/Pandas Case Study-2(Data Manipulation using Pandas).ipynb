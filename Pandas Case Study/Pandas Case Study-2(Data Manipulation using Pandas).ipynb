{
 "cells": [
  {
   "cell_type": "markdown",
   "metadata": {},
   "source": [
    "### IMPORT NECESSARY MODULES"
   ]
  },
  {
   "cell_type": "code",
   "execution_count": 1,
   "metadata": {},
   "outputs": [],
   "source": [
    "import pandas as pd"
   ]
  },
  {
   "cell_type": "markdown",
   "metadata": {},
   "source": [
    "###  Import both the data sets “Cust_data” & “Cust_Demo” into python and solve the below questions using functions from “pandas” module. "
   ]
  },
  {
   "cell_type": "code",
   "execution_count": 2,
   "metadata": {},
   "outputs": [
    {
     "data": {
      "text/html": [
       "<div>\n",
       "<style scoped>\n",
       "    .dataframe tbody tr th:only-of-type {\n",
       "        vertical-align: middle;\n",
       "    }\n",
       "\n",
       "    .dataframe tbody tr th {\n",
       "        vertical-align: top;\n",
       "    }\n",
       "\n",
       "    .dataframe thead th {\n",
       "        text-align: right;\n",
       "    }\n",
       "</style>\n",
       "<table border=\"1\" class=\"dataframe\">\n",
       "  <thead>\n",
       "    <tr style=\"text-align: right;\">\n",
       "      <th></th>\n",
       "      <th>ID</th>\n",
       "      <th>SeriousDlqin2yrs</th>\n",
       "      <th>RevolvingUtilization</th>\n",
       "      <th>No_of_30_59_DPD</th>\n",
       "      <th>DebtRatio</th>\n",
       "      <th>MonthlyIncome</th>\n",
       "      <th>No_Of_OpenCreditLines</th>\n",
       "      <th>No_of_90_DPD</th>\n",
       "      <th>No_of_RealEstateLoans</th>\n",
       "      <th>No_of_60_89_DPD</th>\n",
       "    </tr>\n",
       "  </thead>\n",
       "  <tbody>\n",
       "    <tr>\n",
       "      <th>0</th>\n",
       "      <td>83236</td>\n",
       "      <td>0</td>\n",
       "      <td>0.311726</td>\n",
       "      <td>0</td>\n",
       "      <td>0.296409</td>\n",
       "      <td>11500.0</td>\n",
       "      <td>12</td>\n",
       "      <td>0</td>\n",
       "      <td>3</td>\n",
       "      <td>0</td>\n",
       "    </tr>\n",
       "    <tr>\n",
       "      <th>1</th>\n",
       "      <td>2503</td>\n",
       "      <td>0</td>\n",
       "      <td>0.124988</td>\n",
       "      <td>0</td>\n",
       "      <td>0.115903</td>\n",
       "      <td>14166.0</td>\n",
       "      <td>13</td>\n",
       "      <td>0</td>\n",
       "      <td>1</td>\n",
       "      <td>0</td>\n",
       "    </tr>\n",
       "    <tr>\n",
       "      <th>2</th>\n",
       "      <td>137013</td>\n",
       "      <td>0</td>\n",
       "      <td>0.060258</td>\n",
       "      <td>0</td>\n",
       "      <td>0.515147</td>\n",
       "      <td>6733.0</td>\n",
       "      <td>7</td>\n",
       "      <td>0</td>\n",
       "      <td>3</td>\n",
       "      <td>0</td>\n",
       "    </tr>\n",
       "    <tr>\n",
       "      <th>3</th>\n",
       "      <td>51306</td>\n",
       "      <td>0</td>\n",
       "      <td>0.064322</td>\n",
       "      <td>0</td>\n",
       "      <td>0.165127</td>\n",
       "      <td>13316.0</td>\n",
       "      <td>10</td>\n",
       "      <td>0</td>\n",
       "      <td>1</td>\n",
       "      <td>0</td>\n",
       "    </tr>\n",
       "    <tr>\n",
       "      <th>4</th>\n",
       "      <td>71937</td>\n",
       "      <td>0</td>\n",
       "      <td>0.211186</td>\n",
       "      <td>0</td>\n",
       "      <td>0.022283</td>\n",
       "      <td>2557.0</td>\n",
       "      <td>3</td>\n",
       "      <td>0</td>\n",
       "      <td>0</td>\n",
       "      <td>0</td>\n",
       "    </tr>\n",
       "  </tbody>\n",
       "</table>\n",
       "</div>"
      ],
      "text/plain": [
       "       ID  SeriousDlqin2yrs  RevolvingUtilization  No_of_30_59_DPD  DebtRatio  \\\n",
       "0   83236                 0              0.311726                0   0.296409   \n",
       "1    2503                 0              0.124988                0   0.115903   \n",
       "2  137013                 0              0.060258                0   0.515147   \n",
       "3   51306                 0              0.064322                0   0.165127   \n",
       "4   71937                 0              0.211186                0   0.022283   \n",
       "\n",
       "   MonthlyIncome  No_Of_OpenCreditLines  No_of_90_DPD  No_of_RealEstateLoans  \\\n",
       "0        11500.0                     12             0                      3   \n",
       "1        14166.0                     13             0                      1   \n",
       "2         6733.0                      7             0                      3   \n",
       "3        13316.0                     10             0                      1   \n",
       "4         2557.0                      3             0                      0   \n",
       "\n",
       "   No_of_60_89_DPD  \n",
       "0                0  \n",
       "1                0  \n",
       "2                0  \n",
       "3                0  \n",
       "4                0  "
      ]
     },
     "execution_count": 2,
     "metadata": {},
     "output_type": "execute_result"
    }
   ],
   "source": [
    "cust_data=pd.read_csv(\"D:/Analytics Labs(Data Science with Python)/Class 7 File + Panas Study Case/4. Pandas Case Study-2/Cust_data.csv\")\n",
    "cust_data.head()"
   ]
  },
  {
   "cell_type": "code",
   "execution_count": 3,
   "metadata": {},
   "outputs": [
    {
     "data": {
      "text/html": [
       "<div>\n",
       "<style scoped>\n",
       "    .dataframe tbody tr th:only-of-type {\n",
       "        vertical-align: middle;\n",
       "    }\n",
       "\n",
       "    .dataframe tbody tr th {\n",
       "        vertical-align: top;\n",
       "    }\n",
       "\n",
       "    .dataframe thead th {\n",
       "        text-align: right;\n",
       "    }\n",
       "</style>\n",
       "<table border=\"1\" class=\"dataframe\">\n",
       "  <thead>\n",
       "    <tr style=\"text-align: right;\">\n",
       "      <th></th>\n",
       "      <th>ID</th>\n",
       "      <th>Location</th>\n",
       "      <th>Gender</th>\n",
       "      <th>age</th>\n",
       "      <th>Martial_Status</th>\n",
       "      <th>NumberOfDependents</th>\n",
       "      <th>Own_House</th>\n",
       "      <th>No_Years_address</th>\n",
       "    </tr>\n",
       "  </thead>\n",
       "  <tbody>\n",
       "    <tr>\n",
       "      <th>0</th>\n",
       "      <td>4532</td>\n",
       "      <td>Gandhinagar,Gujarat</td>\n",
       "      <td>0</td>\n",
       "      <td>39</td>\n",
       "      <td>Single</td>\n",
       "      <td>1.0</td>\n",
       "      <td>1</td>\n",
       "      <td>3</td>\n",
       "    </tr>\n",
       "    <tr>\n",
       "      <th>1</th>\n",
       "      <td>148736</td>\n",
       "      <td>Hyderabad,Andhra Pradesh</td>\n",
       "      <td>0</td>\n",
       "      <td>52</td>\n",
       "      <td>Married</td>\n",
       "      <td>0.0</td>\n",
       "      <td>0</td>\n",
       "      <td>3</td>\n",
       "    </tr>\n",
       "    <tr>\n",
       "      <th>2</th>\n",
       "      <td>95965</td>\n",
       "      <td>Shimla,Himachal Pradesh</td>\n",
       "      <td>0</td>\n",
       "      <td>62</td>\n",
       "      <td>Married</td>\n",
       "      <td>0.0</td>\n",
       "      <td>0</td>\n",
       "      <td>2</td>\n",
       "    </tr>\n",
       "    <tr>\n",
       "      <th>3</th>\n",
       "      <td>61759</td>\n",
       "      <td>Srinagar,JK</td>\n",
       "      <td>0</td>\n",
       "      <td>42</td>\n",
       "      <td>Single</td>\n",
       "      <td>1.0</td>\n",
       "      <td>1</td>\n",
       "      <td>1</td>\n",
       "    </tr>\n",
       "    <tr>\n",
       "      <th>4</th>\n",
       "      <td>49806</td>\n",
       "      <td>Imphal,Manipur</td>\n",
       "      <td>0</td>\n",
       "      <td>41</td>\n",
       "      <td>Single</td>\n",
       "      <td>1.0</td>\n",
       "      <td>0</td>\n",
       "      <td>3</td>\n",
       "    </tr>\n",
       "  </tbody>\n",
       "</table>\n",
       "</div>"
      ],
      "text/plain": [
       "       ID                  Location  Gender  age Martial_Status  \\\n",
       "0    4532       Gandhinagar,Gujarat       0   39         Single   \n",
       "1  148736  Hyderabad,Andhra Pradesh       0   52        Married   \n",
       "2   95965   Shimla,Himachal Pradesh       0   62        Married   \n",
       "3   61759               Srinagar,JK       0   42         Single   \n",
       "4   49806            Imphal,Manipur       0   41         Single   \n",
       "\n",
       "   NumberOfDependents  Own_House  No_Years_address  \n",
       "0                 1.0          1                 3  \n",
       "1                 0.0          0                 3  \n",
       "2                 0.0          0                 2  \n",
       "3                 1.0          1                 1  \n",
       "4                 1.0          0                 3  "
      ]
     },
     "execution_count": 3,
     "metadata": {},
     "output_type": "execute_result"
    }
   ],
   "source": [
    "cust_demo=pd.read_csv(\"D:/Analytics Labs(Data Science with Python)/Class 7 File + Panas Study Case/4. Pandas Case Study-2/Cust_demo.csv\")\n",
    "cust_demo.head()"
   ]
  },
  {
   "cell_type": "markdown",
   "metadata": {},
   "source": [
    "### 1. Create sub set of cust_demo as “cust_s1” with ID, age, Gender and Location variables using the condition marital_status = “Married” and Own_house = 1 and age>28. "
   ]
  },
  {
   "cell_type": "code",
   "execution_count": 4,
   "metadata": {},
   "outputs": [],
   "source": [
    "cust_s1=cust_demo[(cust_demo.Martial_Status=='Married')&(cust_demo.Own_House==1)&(cust_demo.age>=28)]\n"
   ]
  },
  {
   "cell_type": "code",
   "execution_count": 5,
   "metadata": {},
   "outputs": [
    {
     "name": "stderr",
     "output_type": "stream",
     "text": [
      "C:\\Users\\raghu\\Anaconda3\\lib\\site-packages\\pandas\\core\\frame.py:3694: SettingWithCopyWarning: \n",
      "A value is trying to be set on a copy of a slice from a DataFrame\n",
      "\n",
      "See the caveats in the documentation: http://pandas.pydata.org/pandas-docs/stable/indexing.html#indexing-view-versus-copy\n",
      "  errors=errors)\n"
     ]
    }
   ],
   "source": [
    "cust_s1.drop(['Martial_Status','NumberOfDependents','Own_House','No_Years_address'],axis=1,inplace=True)"
   ]
  },
  {
   "cell_type": "code",
   "execution_count": 6,
   "metadata": {},
   "outputs": [
    {
     "data": {
      "text/html": [
       "<div>\n",
       "<style scoped>\n",
       "    .dataframe tbody tr th:only-of-type {\n",
       "        vertical-align: middle;\n",
       "    }\n",
       "\n",
       "    .dataframe tbody tr th {\n",
       "        vertical-align: top;\n",
       "    }\n",
       "\n",
       "    .dataframe thead th {\n",
       "        text-align: right;\n",
       "    }\n",
       "</style>\n",
       "<table border=\"1\" class=\"dataframe\">\n",
       "  <thead>\n",
       "    <tr style=\"text-align: right;\">\n",
       "      <th></th>\n",
       "      <th>ID</th>\n",
       "      <th>Location</th>\n",
       "      <th>Gender</th>\n",
       "      <th>age</th>\n",
       "    </tr>\n",
       "  </thead>\n",
       "  <tbody>\n",
       "    <tr>\n",
       "      <th>28</th>\n",
       "      <td>26404</td>\n",
       "      <td>Kolkata,West Bengal</td>\n",
       "      <td>0</td>\n",
       "      <td>33</td>\n",
       "    </tr>\n",
       "    <tr>\n",
       "      <th>42</th>\n",
       "      <td>137858</td>\n",
       "      <td>Chennai,Tamil Nadu</td>\n",
       "      <td>0</td>\n",
       "      <td>34</td>\n",
       "    </tr>\n",
       "    <tr>\n",
       "      <th>50</th>\n",
       "      <td>57715</td>\n",
       "      <td>Thiruvananthapuram,Kerala</td>\n",
       "      <td>1</td>\n",
       "      <td>39</td>\n",
       "    </tr>\n",
       "    <tr>\n",
       "      <th>52</th>\n",
       "      <td>76230</td>\n",
       "      <td>Chandigarh,Haryana</td>\n",
       "      <td>1</td>\n",
       "      <td>53</td>\n",
       "    </tr>\n",
       "    <tr>\n",
       "      <th>56</th>\n",
       "      <td>8493</td>\n",
       "      <td>Ranchi,Jharkhand</td>\n",
       "      <td>1</td>\n",
       "      <td>78</td>\n",
       "    </tr>\n",
       "  </tbody>\n",
       "</table>\n",
       "</div>"
      ],
      "text/plain": [
       "        ID                   Location  Gender  age\n",
       "28   26404        Kolkata,West Bengal       0   33\n",
       "42  137858         Chennai,Tamil Nadu       0   34\n",
       "50   57715  Thiruvananthapuram,Kerala       1   39\n",
       "52   76230         Chandigarh,Haryana       1   53\n",
       "56    8493           Ranchi,Jharkhand       1   78"
      ]
     },
     "execution_count": 6,
     "metadata": {},
     "output_type": "execute_result"
    }
   ],
   "source": [
    "cust_s1.head()"
   ]
  },
  {
   "cell_type": "markdown",
   "metadata": {},
   "source": [
    "### 2. Sort the cust_s1 dataset using location in ascending order and age in descending order with in the location. "
   ]
  },
  {
   "cell_type": "code",
   "execution_count": 7,
   "metadata": {},
   "outputs": [
    {
     "data": {
      "text/html": [
       "<div>\n",
       "<style scoped>\n",
       "    .dataframe tbody tr th:only-of-type {\n",
       "        vertical-align: middle;\n",
       "    }\n",
       "\n",
       "    .dataframe tbody tr th {\n",
       "        vertical-align: top;\n",
       "    }\n",
       "\n",
       "    .dataframe thead th {\n",
       "        text-align: right;\n",
       "    }\n",
       "</style>\n",
       "<table border=\"1\" class=\"dataframe\">\n",
       "  <thead>\n",
       "    <tr style=\"text-align: right;\">\n",
       "      <th></th>\n",
       "      <th>ID</th>\n",
       "      <th>Location</th>\n",
       "      <th>Gender</th>\n",
       "      <th>age</th>\n",
       "    </tr>\n",
       "  </thead>\n",
       "  <tbody>\n",
       "    <tr>\n",
       "      <th>83512</th>\n",
       "      <td>106073</td>\n",
       "      <td>Agartala,Tripura</td>\n",
       "      <td>1</td>\n",
       "      <td>90</td>\n",
       "    </tr>\n",
       "    <tr>\n",
       "      <th>49124</th>\n",
       "      <td>8967</td>\n",
       "      <td>Agartala,Tripura</td>\n",
       "      <td>1</td>\n",
       "      <td>88</td>\n",
       "    </tr>\n",
       "    <tr>\n",
       "      <th>65242</th>\n",
       "      <td>44249</td>\n",
       "      <td>Agartala,Tripura</td>\n",
       "      <td>1</td>\n",
       "      <td>87</td>\n",
       "    </tr>\n",
       "    <tr>\n",
       "      <th>148381</th>\n",
       "      <td>28287</td>\n",
       "      <td>Agartala,Tripura</td>\n",
       "      <td>0</td>\n",
       "      <td>86</td>\n",
       "    </tr>\n",
       "    <tr>\n",
       "      <th>64155</th>\n",
       "      <td>60165</td>\n",
       "      <td>Agartala,Tripura</td>\n",
       "      <td>0</td>\n",
       "      <td>85</td>\n",
       "    </tr>\n",
       "  </tbody>\n",
       "</table>\n",
       "</div>"
      ],
      "text/plain": [
       "            ID          Location  Gender  age\n",
       "83512   106073  Agartala,Tripura       1   90\n",
       "49124     8967  Agartala,Tripura       1   88\n",
       "65242    44249  Agartala,Tripura       1   87\n",
       "148381   28287  Agartala,Tripura       0   86\n",
       "64155    60165  Agartala,Tripura       0   85"
      ]
     },
     "execution_count": 7,
     "metadata": {},
     "output_type": "execute_result"
    }
   ],
   "source": [
    "cust_s1.sort_values(by=['Location','age'],ascending=[True,False]).head()"
   ]
  },
  {
   "cell_type": "markdown",
   "metadata": {},
   "source": [
    "### 3. Rename the variable “NumberOfDependents” as “No_of_dependents” in cust_demo data. "
   ]
  },
  {
   "cell_type": "code",
   "execution_count": 8,
   "metadata": {},
   "outputs": [
    {
     "data": {
      "text/html": [
       "<div>\n",
       "<style scoped>\n",
       "    .dataframe tbody tr th:only-of-type {\n",
       "        vertical-align: middle;\n",
       "    }\n",
       "\n",
       "    .dataframe tbody tr th {\n",
       "        vertical-align: top;\n",
       "    }\n",
       "\n",
       "    .dataframe thead th {\n",
       "        text-align: right;\n",
       "    }\n",
       "</style>\n",
       "<table border=\"1\" class=\"dataframe\">\n",
       "  <thead>\n",
       "    <tr style=\"text-align: right;\">\n",
       "      <th></th>\n",
       "      <th>ID</th>\n",
       "      <th>Location</th>\n",
       "      <th>Gender</th>\n",
       "      <th>age</th>\n",
       "      <th>Martial_Status</th>\n",
       "      <th>No_of_dependents</th>\n",
       "      <th>Own_House</th>\n",
       "      <th>No_Years_address</th>\n",
       "    </tr>\n",
       "  </thead>\n",
       "  <tbody>\n",
       "    <tr>\n",
       "      <th>0</th>\n",
       "      <td>4532</td>\n",
       "      <td>Gandhinagar,Gujarat</td>\n",
       "      <td>0</td>\n",
       "      <td>39</td>\n",
       "      <td>Single</td>\n",
       "      <td>1.0</td>\n",
       "      <td>1</td>\n",
       "      <td>3</td>\n",
       "    </tr>\n",
       "    <tr>\n",
       "      <th>1</th>\n",
       "      <td>148736</td>\n",
       "      <td>Hyderabad,Andhra Pradesh</td>\n",
       "      <td>0</td>\n",
       "      <td>52</td>\n",
       "      <td>Married</td>\n",
       "      <td>0.0</td>\n",
       "      <td>0</td>\n",
       "      <td>3</td>\n",
       "    </tr>\n",
       "    <tr>\n",
       "      <th>2</th>\n",
       "      <td>95965</td>\n",
       "      <td>Shimla,Himachal Pradesh</td>\n",
       "      <td>0</td>\n",
       "      <td>62</td>\n",
       "      <td>Married</td>\n",
       "      <td>0.0</td>\n",
       "      <td>0</td>\n",
       "      <td>2</td>\n",
       "    </tr>\n",
       "    <tr>\n",
       "      <th>3</th>\n",
       "      <td>61759</td>\n",
       "      <td>Srinagar,JK</td>\n",
       "      <td>0</td>\n",
       "      <td>42</td>\n",
       "      <td>Single</td>\n",
       "      <td>1.0</td>\n",
       "      <td>1</td>\n",
       "      <td>1</td>\n",
       "    </tr>\n",
       "    <tr>\n",
       "      <th>4</th>\n",
       "      <td>49806</td>\n",
       "      <td>Imphal,Manipur</td>\n",
       "      <td>0</td>\n",
       "      <td>41</td>\n",
       "      <td>Single</td>\n",
       "      <td>1.0</td>\n",
       "      <td>0</td>\n",
       "      <td>3</td>\n",
       "    </tr>\n",
       "  </tbody>\n",
       "</table>\n",
       "</div>"
      ],
      "text/plain": [
       "       ID                  Location  Gender  age Martial_Status  \\\n",
       "0    4532       Gandhinagar,Gujarat       0   39         Single   \n",
       "1  148736  Hyderabad,Andhra Pradesh       0   52        Married   \n",
       "2   95965   Shimla,Himachal Pradesh       0   62        Married   \n",
       "3   61759               Srinagar,JK       0   42         Single   \n",
       "4   49806            Imphal,Manipur       0   41         Single   \n",
       "\n",
       "   No_of_dependents  Own_House  No_Years_address  \n",
       "0               1.0          1                 3  \n",
       "1               0.0          0                 3  \n",
       "2               0.0          0                 2  \n",
       "3               1.0          1                 1  \n",
       "4               1.0          0                 3  "
      ]
     },
     "execution_count": 8,
     "metadata": {},
     "output_type": "execute_result"
    }
   ],
   "source": [
    "cust_demo.rename(columns={'NumberOfDependents':'No_of_dependents'}).head()"
   ]
  },
  {
   "cell_type": "markdown",
   "metadata": {},
   "source": [
    "### 4. Remove duplicates from the both data sets Cust_data & Cust_Demo"
   ]
  },
  {
   "cell_type": "code",
   "execution_count": 9,
   "metadata": {},
   "outputs": [],
   "source": [
    "cust_data.drop_duplicates(inplace=True)"
   ]
  },
  {
   "cell_type": "code",
   "execution_count": 10,
   "metadata": {},
   "outputs": [],
   "source": [
    "cust_demo.drop_duplicates(inplace=True)"
   ]
  },
  {
   "cell_type": "markdown",
   "metadata": {},
   "source": [
    "### 5. Create new variable as\n",
    "* “No_of_30_plus_DPD = No_of_30_59_DPD+No_of_90_DPD+ No_of_60_89_DPD”,\n",
    "* “No_of_60_plus_DPD = No_of_90_DPD+ No_of_60_89_DPD” in cust_data. "
   ]
  },
  {
   "cell_type": "code",
   "execution_count": 11,
   "metadata": {},
   "outputs": [],
   "source": [
    "cust_data['No_of_30_plus_DPD']=cust_data.No_of_30_59_DPD+cust_data.No_of_90_DPD+cust_data.No_of_60_89_DPD"
   ]
  },
  {
   "cell_type": "code",
   "execution_count": 12,
   "metadata": {},
   "outputs": [],
   "source": [
    "cust_data['No_of_60_plus_DPD']=cust_data.No_of_90_DPD+cust_data.No_of_60_89_DPD"
   ]
  },
  {
   "cell_type": "code",
   "execution_count": 13,
   "metadata": {},
   "outputs": [
    {
     "data": {
      "text/html": [
       "<div>\n",
       "<style scoped>\n",
       "    .dataframe tbody tr th:only-of-type {\n",
       "        vertical-align: middle;\n",
       "    }\n",
       "\n",
       "    .dataframe tbody tr th {\n",
       "        vertical-align: top;\n",
       "    }\n",
       "\n",
       "    .dataframe thead th {\n",
       "        text-align: right;\n",
       "    }\n",
       "</style>\n",
       "<table border=\"1\" class=\"dataframe\">\n",
       "  <thead>\n",
       "    <tr style=\"text-align: right;\">\n",
       "      <th></th>\n",
       "      <th>ID</th>\n",
       "      <th>SeriousDlqin2yrs</th>\n",
       "      <th>RevolvingUtilization</th>\n",
       "      <th>No_of_30_59_DPD</th>\n",
       "      <th>DebtRatio</th>\n",
       "      <th>MonthlyIncome</th>\n",
       "      <th>No_Of_OpenCreditLines</th>\n",
       "      <th>No_of_90_DPD</th>\n",
       "      <th>No_of_RealEstateLoans</th>\n",
       "      <th>No_of_60_89_DPD</th>\n",
       "      <th>No_of_30_plus_DPD</th>\n",
       "      <th>No_of_60_plus_DPD</th>\n",
       "    </tr>\n",
       "  </thead>\n",
       "  <tbody>\n",
       "    <tr>\n",
       "      <th>0</th>\n",
       "      <td>83236</td>\n",
       "      <td>0</td>\n",
       "      <td>0.311726</td>\n",
       "      <td>0</td>\n",
       "      <td>0.296409</td>\n",
       "      <td>11500.0</td>\n",
       "      <td>12</td>\n",
       "      <td>0</td>\n",
       "      <td>3</td>\n",
       "      <td>0</td>\n",
       "      <td>0</td>\n",
       "      <td>0</td>\n",
       "    </tr>\n",
       "    <tr>\n",
       "      <th>1</th>\n",
       "      <td>2503</td>\n",
       "      <td>0</td>\n",
       "      <td>0.124988</td>\n",
       "      <td>0</td>\n",
       "      <td>0.115903</td>\n",
       "      <td>14166.0</td>\n",
       "      <td>13</td>\n",
       "      <td>0</td>\n",
       "      <td>1</td>\n",
       "      <td>0</td>\n",
       "      <td>0</td>\n",
       "      <td>0</td>\n",
       "    </tr>\n",
       "    <tr>\n",
       "      <th>2</th>\n",
       "      <td>137013</td>\n",
       "      <td>0</td>\n",
       "      <td>0.060258</td>\n",
       "      <td>0</td>\n",
       "      <td>0.515147</td>\n",
       "      <td>6733.0</td>\n",
       "      <td>7</td>\n",
       "      <td>0</td>\n",
       "      <td>3</td>\n",
       "      <td>0</td>\n",
       "      <td>0</td>\n",
       "      <td>0</td>\n",
       "    </tr>\n",
       "    <tr>\n",
       "      <th>3</th>\n",
       "      <td>51306</td>\n",
       "      <td>0</td>\n",
       "      <td>0.064322</td>\n",
       "      <td>0</td>\n",
       "      <td>0.165127</td>\n",
       "      <td>13316.0</td>\n",
       "      <td>10</td>\n",
       "      <td>0</td>\n",
       "      <td>1</td>\n",
       "      <td>0</td>\n",
       "      <td>0</td>\n",
       "      <td>0</td>\n",
       "    </tr>\n",
       "    <tr>\n",
       "      <th>4</th>\n",
       "      <td>71937</td>\n",
       "      <td>0</td>\n",
       "      <td>0.211186</td>\n",
       "      <td>0</td>\n",
       "      <td>0.022283</td>\n",
       "      <td>2557.0</td>\n",
       "      <td>3</td>\n",
       "      <td>0</td>\n",
       "      <td>0</td>\n",
       "      <td>0</td>\n",
       "      <td>0</td>\n",
       "      <td>0</td>\n",
       "    </tr>\n",
       "  </tbody>\n",
       "</table>\n",
       "</div>"
      ],
      "text/plain": [
       "       ID  SeriousDlqin2yrs  RevolvingUtilization  No_of_30_59_DPD  DebtRatio  \\\n",
       "0   83236                 0              0.311726                0   0.296409   \n",
       "1    2503                 0              0.124988                0   0.115903   \n",
       "2  137013                 0              0.060258                0   0.515147   \n",
       "3   51306                 0              0.064322                0   0.165127   \n",
       "4   71937                 0              0.211186                0   0.022283   \n",
       "\n",
       "   MonthlyIncome  No_Of_OpenCreditLines  No_of_90_DPD  No_of_RealEstateLoans  \\\n",
       "0        11500.0                     12             0                      3   \n",
       "1        14166.0                     13             0                      1   \n",
       "2         6733.0                      7             0                      3   \n",
       "3        13316.0                     10             0                      1   \n",
       "4         2557.0                      3             0                      0   \n",
       "\n",
       "   No_of_60_89_DPD  No_of_30_plus_DPD  No_of_60_plus_DPD  \n",
       "0                0                  0                  0  \n",
       "1                0                  0                  0  \n",
       "2                0                  0                  0  \n",
       "3                0                  0                  0  \n",
       "4                0                  0                  0  "
      ]
     },
     "execution_count": 13,
     "metadata": {},
     "output_type": "execute_result"
    }
   ],
   "source": [
    "cust_data.head()"
   ]
  },
  {
   "cell_type": "markdown",
   "metadata": {},
   "source": [
    "### 6. Perform below joins between cust_data & cust_demo.\n",
    "*  a. Create data set “cust_leftjoin” using Left Join\n",
    "*  b. Create data set “cust_rightjoin” using right Join \n",
    "*  c. Create data set “cust_innterjoin” using inner Join\n",
    "*  d. Create data set “cust_fulljoin” using full Join "
   ]
  },
  {
   "cell_type": "code",
   "execution_count": 22,
   "metadata": {},
   "outputs": [],
   "source": [
    "cust_leftjoin=cust_data.set_index('ID').join(cust_demo.set_index('ID'),how='left')"
   ]
  },
  {
   "cell_type": "code",
   "execution_count": 24,
   "metadata": {},
   "outputs": [],
   "source": [
    "cust_rightjoin=cust_data.set_index('ID').join(cust_demo.set_index('ID'),how='right')"
   ]
  },
  {
   "cell_type": "code",
   "execution_count": 25,
   "metadata": {},
   "outputs": [],
   "source": [
    "cust_innerjoin=cust_data.set_index('ID').join(cust_demo.set_index('ID'),how='inner')"
   ]
  },
  {
   "cell_type": "code",
   "execution_count": 71,
   "metadata": {},
   "outputs": [],
   "source": [
    "cust_fulljoin=cust_data.set_index('ID').join(cust_demo.set_index('ID'),how='outer')"
   ]
  },
  {
   "cell_type": "markdown",
   "metadata": {},
   "source": [
    "### 7. Create two data sets by taking random sample from cust_demo with 5% data in first data set and 10000 observations in second data set"
   ]
  },
  {
   "cell_type": "code",
   "execution_count": 30,
   "metadata": {},
   "outputs": [],
   "source": [
    "cust_demo_5per=cust_demo.sample(frac=.05,random_state=123)"
   ]
  },
  {
   "cell_type": "code",
   "execution_count": 31,
   "metadata": {},
   "outputs": [],
   "source": [
    "cust_demo_10k=cust_demo.sample(n=10000,random_state=123)"
   ]
  },
  {
   "cell_type": "markdown",
   "metadata": {},
   "source": [
    "### 8. Calculate “number of customers” and “number of married customer” using combined data set comes from left join of cust_data and cust_demo "
   ]
  },
  {
   "cell_type": "code",
   "execution_count": 42,
   "metadata": {},
   "outputs": [
    {
     "data": {
      "text/plain": [
       "149902"
      ]
     },
     "execution_count": 42,
     "metadata": {},
     "output_type": "execute_result"
    }
   ],
   "source": [
    "cust_leftjoin.SeriousDlqin2yrs.count()  ## Number of Customers "
   ]
  },
  {
   "cell_type": "code",
   "execution_count": 43,
   "metadata": {},
   "outputs": [
    {
     "data": {
      "text/plain": [
       "42819"
      ]
     },
     "execution_count": 43,
     "metadata": {},
     "output_type": "execute_result"
    }
   ],
   "source": [
    "cust_leftjoin[cust_leftjoin.Martial_Status=='Married'].SeriousDlqin2yrs.count() ## Number of Married Customers"
   ]
  },
  {
   "cell_type": "code",
   "execution_count": 55,
   "metadata": {},
   "outputs": [
    {
     "data": {
      "text/plain": [
       "0"
      ]
     },
     "execution_count": 55,
     "metadata": {},
     "output_type": "execute_result"
    }
   ],
   "source": [
    "cust_leftjoin.SeriousDlqin2yrs.isnull().sum() ## We can calculate above parmameters by SeriousDlqin2yers because it has no missing values"
   ]
  },
  {
   "cell_type": "markdown",
   "metadata": {},
   "source": [
    "### 9. Create summary report with below column by combination of Gender, Serious_delinquency. \n",
    "* a. Number of customers \n",
    "* b. Percentage of customers \n",
    "* c. Average Revolving utilization \n",
    "* d. Standard deviation with in the utilization \n",
    "* e. Average monthly income  \n",
    "* f. Maximum Monthly income \n",
    "* g. Standard deviation with in the income\n",
    "* h. Average Age \n",
    "* i. Average Dependents "
   ]
  },
  {
   "cell_type": "code",
   "execution_count": 73,
   "metadata": {},
   "outputs": [],
   "source": [
    "cust_fulljoin.reset_index(drop=False,inplace=True)"
   ]
  },
  {
   "cell_type": "code",
   "execution_count": 108,
   "metadata": {},
   "outputs": [],
   "source": [
    "avg=cust_fulljoin[['Gender','SeriousDlqin2yrs','RevolvingUtilization','MonthlyIncome','age','NumberOfDependents']].groupby(['Gender','SeriousDlqin2yrs']).agg('mean').add_prefix('avg_')"
   ]
  },
  {
   "cell_type": "code",
   "execution_count": 109,
   "metadata": {},
   "outputs": [],
   "source": [
    "count=cust_fulljoin[['Gender','SeriousDlqin2yrs','ID']].groupby(['Gender','SeriousDlqin2yrs']).agg('count').add_prefix('count_')"
   ]
  },
  {
   "cell_type": "code",
   "execution_count": 110,
   "metadata": {},
   "outputs": [],
   "source": [
    "std=cust_fulljoin[['Gender','SeriousDlqin2yrs','RevolvingUtilization','MonthlyIncome']].groupby(['Gender','SeriousDlqin2yrs']).agg('std').add_prefix('std_')"
   ]
  },
  {
   "cell_type": "code",
   "execution_count": 112,
   "metadata": {},
   "outputs": [],
   "source": [
    "max_=cust_fulljoin[['Gender','SeriousDlqin2yrs','MonthlyIncome']].groupby(['Gender','SeriousDlqin2yrs']).agg('max').add_prefix('max_')"
   ]
  },
  {
   "cell_type": "code",
   "execution_count": 124,
   "metadata": {},
   "outputs": [],
   "source": [
    "per=count.groupby(level=0).apply(lambda x: x/x.sum() * 100)\n",
    "per.rename(columns={'count_ID':'per_cust'},inplace=True)"
   ]
  },
  {
   "cell_type": "code",
   "execution_count": 127,
   "metadata": {},
   "outputs": [
    {
     "data": {
      "text/html": [
       "<div>\n",
       "<style scoped>\n",
       "    .dataframe tbody tr th:only-of-type {\n",
       "        vertical-align: middle;\n",
       "    }\n",
       "\n",
       "    .dataframe tbody tr th {\n",
       "        vertical-align: top;\n",
       "    }\n",
       "\n",
       "    .dataframe thead th {\n",
       "        text-align: right;\n",
       "    }\n",
       "</style>\n",
       "<table border=\"1\" class=\"dataframe\">\n",
       "  <thead>\n",
       "    <tr style=\"text-align: right;\">\n",
       "      <th></th>\n",
       "      <th></th>\n",
       "      <th>avg_RevolvingUtilization</th>\n",
       "      <th>avg_MonthlyIncome</th>\n",
       "      <th>avg_age</th>\n",
       "      <th>avg_NumberOfDependents</th>\n",
       "      <th>count_ID</th>\n",
       "      <th>std_RevolvingUtilization</th>\n",
       "      <th>std_MonthlyIncome</th>\n",
       "      <th>max_MonthlyIncome</th>\n",
       "      <th>per_cust</th>\n",
       "    </tr>\n",
       "    <tr>\n",
       "      <th>Gender</th>\n",
       "      <th>SeriousDlqin2yrs</th>\n",
       "      <th></th>\n",
       "      <th></th>\n",
       "      <th></th>\n",
       "      <th></th>\n",
       "      <th></th>\n",
       "      <th></th>\n",
       "      <th></th>\n",
       "      <th></th>\n",
       "      <th></th>\n",
       "    </tr>\n",
       "  </thead>\n",
       "  <tbody>\n",
       "    <tr>\n",
       "      <th rowspan=\"2\" valign=\"top\">0.0</th>\n",
       "      <th>0.0</th>\n",
       "      <td>7.279863</td>\n",
       "      <td>6676.964828</td>\n",
       "      <td>52.750403</td>\n",
       "      <td>0.743642</td>\n",
       "      <td>87381</td>\n",
       "      <td>288.877443</td>\n",
       "      <td>8950.773701</td>\n",
       "      <td>835040.0</td>\n",
       "      <td>93.287996</td>\n",
       "    </tr>\n",
       "    <tr>\n",
       "      <th>1.0</th>\n",
       "      <td>5.295516</td>\n",
       "      <td>5522.818565</td>\n",
       "      <td>45.684110</td>\n",
       "      <td>0.929393</td>\n",
       "      <td>6287</td>\n",
       "      <td>145.701505</td>\n",
       "      <td>4669.707578</td>\n",
       "      <td>81000.0</td>\n",
       "      <td>6.712004</td>\n",
       "    </tr>\n",
       "    <tr>\n",
       "      <th rowspan=\"2\" valign=\"top\">1.0</th>\n",
       "      <th>0.0</th>\n",
       "      <td>4.332912</td>\n",
       "      <td>6866.835622</td>\n",
       "      <td>52.754413</td>\n",
       "      <td>0.742653</td>\n",
       "      <td>52462</td>\n",
       "      <td>189.815316</td>\n",
       "      <td>21260.060839</td>\n",
       "      <td>3008750.0</td>\n",
       "      <td>93.365368</td>\n",
       "    </tr>\n",
       "    <tr>\n",
       "      <th>1.0</th>\n",
       "      <td>2.813082</td>\n",
       "      <td>5811.826739</td>\n",
       "      <td>46.335300</td>\n",
       "      <td>0.981426</td>\n",
       "      <td>3728</td>\n",
       "      <td>104.605013</td>\n",
       "      <td>8077.034775</td>\n",
       "      <td>250000.0</td>\n",
       "      <td>6.634632</td>\n",
       "    </tr>\n",
       "  </tbody>\n",
       "</table>\n",
       "</div>"
      ],
      "text/plain": [
       "                         avg_RevolvingUtilization  avg_MonthlyIncome  \\\n",
       "Gender SeriousDlqin2yrs                                                \n",
       "0.0    0.0                               7.279863        6676.964828   \n",
       "       1.0                               5.295516        5522.818565   \n",
       "1.0    0.0                               4.332912        6866.835622   \n",
       "       1.0                               2.813082        5811.826739   \n",
       "\n",
       "                           avg_age  avg_NumberOfDependents  count_ID  \\\n",
       "Gender SeriousDlqin2yrs                                                \n",
       "0.0    0.0               52.750403                0.743642     87381   \n",
       "       1.0               45.684110                0.929393      6287   \n",
       "1.0    0.0               52.754413                0.742653     52462   \n",
       "       1.0               46.335300                0.981426      3728   \n",
       "\n",
       "                         std_RevolvingUtilization  std_MonthlyIncome  \\\n",
       "Gender SeriousDlqin2yrs                                                \n",
       "0.0    0.0                             288.877443        8950.773701   \n",
       "       1.0                             145.701505        4669.707578   \n",
       "1.0    0.0                             189.815316       21260.060839   \n",
       "       1.0                             104.605013        8077.034775   \n",
       "\n",
       "                         max_MonthlyIncome   per_cust  \n",
       "Gender SeriousDlqin2yrs                                \n",
       "0.0    0.0                        835040.0  93.287996  \n",
       "       1.0                         81000.0   6.712004  \n",
       "1.0    0.0                       3008750.0  93.365368  \n",
       "       1.0                        250000.0   6.634632  "
      ]
     },
     "execution_count": 127,
     "metadata": {},
     "output_type": "execute_result"
    }
   ],
   "source": [
    "pd.concat([avg,count,std,max_,per],axis=1)"
   ]
  },
  {
   "cell_type": "markdown",
   "metadata": {},
   "source": [
    "### 10. Create summary report with below information\n",
    "* Number of married customers\n",
    "* Percentage of married customers "
   ]
  },
  {
   "cell_type": "code",
   "execution_count": 131,
   "metadata": {},
   "outputs": [],
   "source": [
    "cust_fulljoin[cust_fulljoin.Martial_Status=='Married']"
   ]
  },
  {
   "cell_type": "code",
   "execution_count": 134,
   "metadata": {},
   "outputs": [],
   "source": [
    "cust_married=cust_fulljoin[['Martial_Status','ID']].groupby('Martial_Status').count()"
   ]
  },
  {
   "cell_type": "code",
   "execution_count": 163,
   "metadata": {},
   "outputs": [],
   "source": [
    "per_cust_married=cust_married.groupby(level=0).apply(lambda x: x/cust_fulljoin.Martial_Status.notna().sum() * 100)\n",
    "per_cust_married.rename(columns={'ID':'Per_ID'},inplace=True)"
   ]
  },
  {
   "cell_type": "code",
   "execution_count": 164,
   "metadata": {},
   "outputs": [
    {
     "data": {
      "text/html": [
       "<div>\n",
       "<style scoped>\n",
       "    .dataframe tbody tr th:only-of-type {\n",
       "        vertical-align: middle;\n",
       "    }\n",
       "\n",
       "    .dataframe tbody tr th {\n",
       "        vertical-align: top;\n",
       "    }\n",
       "\n",
       "    .dataframe thead th {\n",
       "        text-align: right;\n",
       "    }\n",
       "</style>\n",
       "<table border=\"1\" class=\"dataframe\">\n",
       "  <thead>\n",
       "    <tr style=\"text-align: right;\">\n",
       "      <th></th>\n",
       "      <th>ID</th>\n",
       "      <th>Per_ID</th>\n",
       "    </tr>\n",
       "    <tr>\n",
       "      <th>Martial_Status</th>\n",
       "      <th></th>\n",
       "      <th></th>\n",
       "    </tr>\n",
       "  </thead>\n",
       "  <tbody>\n",
       "    <tr>\n",
       "      <th>Married</th>\n",
       "      <td>42845</td>\n",
       "      <td>28.571714</td>\n",
       "    </tr>\n",
       "    <tr>\n",
       "      <th>Single</th>\n",
       "      <td>107111</td>\n",
       "      <td>71.428286</td>\n",
       "    </tr>\n",
       "  </tbody>\n",
       "</table>\n",
       "</div>"
      ],
      "text/plain": [
       "                    ID     Per_ID\n",
       "Martial_Status                   \n",
       "Married          42845  28.571714\n",
       "Single          107111  71.428286"
      ]
     },
     "execution_count": 164,
     "metadata": {},
     "output_type": "execute_result"
    }
   ],
   "source": [
    "pd.concat([cust_married,per_cust_married],axis=1)"
   ]
  }
 ],
 "metadata": {
  "kernelspec": {
   "display_name": "Python 3",
   "language": "python",
   "name": "python3"
  },
  "language_info": {
   "codemirror_mode": {
    "name": "ipython",
    "version": 3
   },
   "file_extension": ".py",
   "mimetype": "text/x-python",
   "name": "python",
   "nbconvert_exporter": "python",
   "pygments_lexer": "ipython3",
   "version": "3.6.5"
  }
 },
 "nbformat": 4,
 "nbformat_minor": 2
}
